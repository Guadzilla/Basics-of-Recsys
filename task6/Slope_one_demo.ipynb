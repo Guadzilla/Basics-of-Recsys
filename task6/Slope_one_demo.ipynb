{
 "cells": [
  {
   "cell_type": "code",
   "execution_count": null,
   "metadata": {},
   "outputs": [],
   "source": []
  },
  {
   "cell_type": "code",
   "execution_count": 19,
   "metadata": {},
   "outputs": [
    {
     "data": {
      "text/plain": [
       "{1: {'A': 5, 'B': 3, 'C': 4, 'D': 4},\n",
       " 2: {'A': 3, 'B': 1, 'C': 2, 'D': 3, 'E': 3},\n",
       " 3: {'A': 4, 'B': 3, 'C': 4, 'D': 3, 'E': 5},\n",
       " 4: {'A': 3, 'B': 3, 'C': 1, 'D': 5, 'E': 4},\n",
       " 5: {'A': 1, 'B': 5, 'C': 5, 'D': 2, 'E': 1}}"
      ]
     },
     "execution_count": 19,
     "metadata": {},
     "output_type": "execute_result"
    }
   ],
   "source": [
    "def loadData():\n",
    "    rating_data={1: {'A': 5, 'B': 3, 'C': 4, 'D': 4},\n",
    "                 2: {'A': 3, 'B': 1, 'C': 2, 'D': 3, 'E': 3},\n",
    "                 3: {'A': 4, 'B': 3, 'C': 4, 'D': 3, 'E': 5},\n",
    "                 4: {'A': 3, 'B': 3, 'C': 1, 'D': 5, 'E': 4},\n",
    "                 5: {'A': 1, 'B': 5, 'C': 5, 'D': 2, 'E': 1}\n",
    "              }\n",
    "    return rating_data\t\n",
    "users_rating = loadData()\n",
    "users_rating"
   ]
  },
  {
   "cell_type": "code",
   "execution_count": 5,
   "metadata": {},
   "outputs": [
    {
     "data": {
      "text/plain": [
       "{'A': {1: 5, 2: 3, 3: 4, 4: 3, 5: 1},\n",
       " 'B': {1: 3, 2: 1, 3: 3, 4: 3, 5: 5},\n",
       " 'C': {1: 4, 2: 2, 3: 4, 4: 1, 5: 5},\n",
       " 'D': {1: 4, 2: 3, 3: 3, 4: 5, 5: 2},\n",
       " 'E': {2: 3, 3: 5, 4: 4, 5: 1}}"
      ]
     },
     "execution_count": 5,
     "metadata": {},
     "output_type": "execute_result"
    }
   ],
   "source": [
    "# 建立倒排索引\n",
    "items_rating = {}\n",
    "for user,ratings in users_rating.items():\n",
    "    for item,rating in ratings.items():\n",
    "        if item not in items_rating:\n",
    "            items_rating[item] = {}\n",
    "        if user not in items_rating[item]:\n",
    "            items_rating[item][user] = 0\n",
    "        items_rating[item][user] = rating\n",
    "items_rating"
   ]
  },
  {
   "cell_type": "code",
   "execution_count": 11,
   "metadata": {},
   "outputs": [
    {
     "data": {
      "text/plain": [
       "({'A': {'B': -0.2, 'C': 0.0, 'D': 0.2, 'E': 0.5},\n",
       "  'B': {'A': 0.2, 'C': 0.2, 'D': 0.4, 'E': 0.25},\n",
       "  'C': {'A': 0.0, 'B': -0.2, 'D': 0.2, 'E': 0.25},\n",
       "  'D': {'A': -0.2, 'B': -0.4, 'C': -0.2, 'E': 0.0},\n",
       "  'E': {'A': -0.5, 'B': -0.25, 'C': -0.25, 'D': 0.0}},\n",
       " {'A': {'B': 5, 'C': 5, 'D': 5, 'E': 4},\n",
       "  'B': {'A': 5, 'C': 5, 'D': 5, 'E': 4},\n",
       "  'C': {'A': 5, 'B': 5, 'D': 5, 'E': 4},\n",
       "  'D': {'A': 5, 'B': 5, 'C': 5, 'E': 4},\n",
       "  'E': {'A': 4, 'B': 4, 'C': 4, 'D': 4}})"
      ]
     },
     "execution_count": 11,
     "metadata": {},
     "output_type": "execute_result"
    }
   ],
   "source": [
    "# 计算物品间评分偏差\n",
    "Ratings_diffs = {}\n",
    "N_set = {}\n",
    "for itemx,itemx_history in items_rating.items():\n",
    "    if itemx not in Ratings_diffs:\n",
    "        Ratings_diffs[itemx] = {}\n",
    "        N_set[itemx] = {}\n",
    "    for itemy,itemy_history in items_rating.items():\n",
    "        if itemx != itemy:\n",
    "            Ratings_diffs[itemx][itemy] = 0\n",
    "            N_set[itemx][itemy] = 0\n",
    "            for x_user in itemx_history:\n",
    "                if x_user in itemy_history:\n",
    "                    Ratings_diffs[itemx][itemy] += items_rating[itemy][x_user] - items_rating[itemx][x_user]\n",
    "                    N_set[itemx][itemy] += 1\n",
    "for itemx,ys in Ratings_diffs.items():\n",
    "    for itemy,rating in ys.items():\n",
    "        Ratings_diffs[itemx][itemy] /= N_set[itemx][itemy]\n",
    "\n",
    "Ratings_diffs,N_set"
   ]
  },
  {
   "cell_type": "code",
   "execution_count": 17,
   "metadata": {},
   "outputs": [
    {
     "data": {
      "text/plain": [
       "-0.25"
      ]
     },
     "execution_count": 17,
     "metadata": {},
     "output_type": "execute_result"
    }
   ],
   "source": [
    "# 预测评分\n",
    "# 首先找出Alice交互过的物品哪些与要预测的物品有过”共同被统一用户评分“的经历，即存在倒排索引Ratings_item[x][y]\n",
    "A_history = users_rating[1]\n",
    "candidate_items = set()\n",
    "for item in Ratings_diffs['E']:\n",
    "    if item in A_history:\n",
    "        candidate_items.add(item)\n",
    "weighted_score = 0\n",
    "weighted_sum = 0\n",
    "for item in Ratings_diffs['E']:\n",
    "    weighted_sum += N_set['E'][item]\n",
    "    weighted_score += Ratings_diffs['E'][item] * N_set['E'][item]\n",
    "predict = weighted_score/weighted_sum\n",
    "predict"
   ]
  },
  {
   "cell_type": "code",
   "execution_count": null,
   "metadata": {},
   "outputs": [],
   "source": []
  }
 ],
 "metadata": {
  "interpreter": {
   "hash": "16666c730eb3774def68e1b2b691a1377bf91e3bd9569751a5dfa4d926ab1612"
  },
  "kernelspec": {
   "display_name": "Python 3.8.0 ('dress')",
   "language": "python",
   "name": "python3"
  },
  "language_info": {
   "codemirror_mode": {
    "name": "ipython",
    "version": 3
   },
   "file_extension": ".py",
   "mimetype": "text/x-python",
   "name": "python",
   "nbconvert_exporter": "python",
   "pygments_lexer": "ipython3",
   "version": "3.8.0"
  },
  "orig_nbformat": 4
 },
 "nbformat": 4,
 "nbformat_minor": 2
}
