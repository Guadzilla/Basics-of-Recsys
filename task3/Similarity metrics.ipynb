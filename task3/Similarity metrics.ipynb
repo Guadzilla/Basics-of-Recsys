{
 "cells": [
  {
   "cell_type": "code",
   "execution_count": 1,
   "id": "1fb24cdf",
   "metadata": {},
   "outputs": [],
   "source": [
    "import pandas as pd\n",
    "import numpy as np"
   ]
  },
  {
   "cell_type": "markdown",
   "id": "2b5bc85d",
   "metadata": {},
   "source": [
    "# 相似度度量"
   ]
  },
  {
   "cell_type": "markdown",
   "id": "7300f8e5",
   "metadata": {},
   "source": [
    "## 余弦相似度"
   ]
  },
  {
   "cell_type": "code",
   "execution_count": 2,
   "id": "cb70fdff",
   "metadata": {},
   "outputs": [
    {
     "data": {
      "text/plain": [
       "array([[1.        , 0.81649658],\n",
       "       [0.81649658, 1.        ]])"
      ]
     },
     "execution_count": 2,
     "metadata": {},
     "output_type": "execute_result"
    }
   ],
   "source": [
    "from sklearn.metrics.pairwise import cosine_similarity\n",
    "i = [1, 0, 0, 0]\n",
    "j = [1, 0.5, 0.5, 0]\n",
    "cosine_similarity([i, j])"
   ]
  },
  {
   "cell_type": "markdown",
   "id": "1289253a",
   "metadata": {},
   "source": [
    "## 皮尔逊相关系数"
   ]
  },
  {
   "cell_type": "code",
   "execution_count": 3,
   "id": "f0faccb9",
   "metadata": {},
   "outputs": [
    {
     "data": {
      "text/plain": [
       "(0.816496580927726, 0.18350341907227397)"
      ]
     },
     "execution_count": 3,
     "metadata": {},
     "output_type": "execute_result"
    }
   ],
   "source": [
    "from scipy.stats import pearsonr\n",
    "\n",
    "i = [1, 0, 0, 0]\n",
    "j = [1, 0.5, 0.5, 0]\n",
    "pearsonr(i, j)\n",
    "# 返回值：（皮尔逊相关系数，p-value）"
   ]
  },
  {
   "cell_type": "markdown",
   "id": "57fde9da",
   "metadata": {},
   "source": [
    "## 构造数据集，矩阵内容是用户对物品的评分"
   ]
  },
  {
   "cell_type": "code",
   "execution_count": 4,
   "id": "44e8f485",
   "metadata": {},
   "outputs": [],
   "source": [
    "def loadData():\n",
    "    ratings={'Alice': {'A': 5, 'B': 3, 'C': 4, 'D': 4},\n",
    "           'Bob': {'A': 3, 'B': 1, 'C': 2, 'D': 3, 'E': 3},\n",
    "           'Jack': {'A': 4, 'B': 3, 'C': 4, 'D': 3, 'E': 5},\n",
    "           'Nancy': {'A': 3, 'B': 3, 'C': 1, 'D': 5, 'E': 4},\n",
    "           'David': {'A': 1, 'B': 5, 'C': 5, 'D': 2, 'E': 1}\n",
    "          }\n",
    "    return ratings\n",
    "\n",
    "ratings= loadData()\n",
    "ratings = pd.DataFrame(ratings).T"
   ]
  },
  {
   "cell_type": "code",
   "execution_count": 5,
   "id": "38754c78",
   "metadata": {},
   "outputs": [
    {
     "data": {
      "text/html": [
       "<div>\n",
       "<style scoped>\n",
       "    .dataframe tbody tr th:only-of-type {\n",
       "        vertical-align: middle;\n",
       "    }\n",
       "\n",
       "    .dataframe tbody tr th {\n",
       "        vertical-align: top;\n",
       "    }\n",
       "\n",
       "    .dataframe thead th {\n",
       "        text-align: right;\n",
       "    }\n",
       "</style>\n",
       "<table border=\"1\" class=\"dataframe\">\n",
       "  <thead>\n",
       "    <tr style=\"text-align: right;\">\n",
       "      <th></th>\n",
       "      <th>A</th>\n",
       "      <th>B</th>\n",
       "      <th>C</th>\n",
       "      <th>D</th>\n",
       "      <th>E</th>\n",
       "    </tr>\n",
       "  </thead>\n",
       "  <tbody>\n",
       "    <tr>\n",
       "      <th>Alice</th>\n",
       "      <td>5.0</td>\n",
       "      <td>3.0</td>\n",
       "      <td>4.0</td>\n",
       "      <td>4.0</td>\n",
       "      <td>NaN</td>\n",
       "    </tr>\n",
       "    <tr>\n",
       "      <th>Bob</th>\n",
       "      <td>3.0</td>\n",
       "      <td>1.0</td>\n",
       "      <td>2.0</td>\n",
       "      <td>3.0</td>\n",
       "      <td>3.0</td>\n",
       "    </tr>\n",
       "    <tr>\n",
       "      <th>Jack</th>\n",
       "      <td>4.0</td>\n",
       "      <td>3.0</td>\n",
       "      <td>4.0</td>\n",
       "      <td>3.0</td>\n",
       "      <td>5.0</td>\n",
       "    </tr>\n",
       "    <tr>\n",
       "      <th>Nancy</th>\n",
       "      <td>3.0</td>\n",
       "      <td>3.0</td>\n",
       "      <td>1.0</td>\n",
       "      <td>5.0</td>\n",
       "      <td>4.0</td>\n",
       "    </tr>\n",
       "    <tr>\n",
       "      <th>David</th>\n",
       "      <td>1.0</td>\n",
       "      <td>5.0</td>\n",
       "      <td>5.0</td>\n",
       "      <td>2.0</td>\n",
       "      <td>1.0</td>\n",
       "    </tr>\n",
       "  </tbody>\n",
       "</table>\n",
       "</div>"
      ],
      "text/plain": [
       "         A    B    C    D    E\n",
       "Alice  5.0  3.0  4.0  4.0  NaN\n",
       "Bob    3.0  1.0  2.0  3.0  3.0\n",
       "Jack   4.0  3.0  4.0  3.0  5.0\n",
       "Nancy  3.0  3.0  1.0  5.0  4.0\n",
       "David  1.0  5.0  5.0  2.0  1.0"
      ]
     },
     "execution_count": 5,
     "metadata": {},
     "output_type": "execute_result"
    }
   ],
   "source": [
    "ratings"
   ]
  },
  {
   "cell_type": "code",
   "execution_count": 11,
   "id": "744b3f0d",
   "metadata": {},
   "outputs": [
    {
     "name": "stdout",
     "output_type": "stream",
     "text": [
      "Bob与David的cosine相似度矩阵:\n",
      "[[1.         0.63781505]\n",
      " [0.63781505 1.        ]] \n",
      "\n",
      "Bob与David的皮尔逊相关系数: (-0.9001487972234685, 0.037303521273850115)\n"
     ]
    }
   ],
   "source": [
    "# Bob与David的相似性\n",
    "cos_similarity = cosine_similarity([ratings.loc['Bob',:],ratings.loc['David',:]])\n",
    "psn_similarity = pearsonr(ratings.loc['Bob',:],ratings.loc['David',:])\n",
    "\n",
    "print('Bob与David的cosine相似度矩阵:')\n",
    "print(cos_similarity,'\\n')\n",
    "print(f'Bob与David的皮尔逊相关系数: {psn_similarity}')"
   ]
  },
  {
   "cell_type": "code",
   "execution_count": 12,
   "id": "af82de34",
   "metadata": {},
   "outputs": [
    {
     "name": "stdout",
     "output_type": "stream",
     "text": [
      "物品A与物品B的cosine相似度矩阵:\n",
      "[[1.         0.78025959]\n",
      " [0.78025959 1.        ]] \n",
      "\n",
      "物品A与物品B的皮尔逊相关系数: (-0.47673129462279606, 0.4168545738501419)\n"
     ]
    }
   ],
   "source": [
    "# 物品A与物品B的相似性\n",
    "cos_similarity = cosine_similarity([ratings.loc[:,'A'],ratings.loc[:,'B']])\n",
    "psn_similarity = pearsonr(ratings.loc[:,'A'],ratings.loc[:,'B'])\n",
    "\n",
    "print('物品A与物品B的cosine相似度矩阵:')\n",
    "print(cos_similarity,'\\n')\n",
    "print(f'物品A与物品B的皮尔逊相关系数: {psn_similarity}')"
   ]
  },
  {
   "cell_type": "code",
   "execution_count": 20,
   "id": "0cab003c",
   "metadata": {},
   "outputs": [
    {
     "data": {
      "text/plain": [
       "(0.7905694150420948, 0.11136715471408393)"
      ]
     },
     "execution_count": 20,
     "metadata": {},
     "output_type": "execute_result"
    }
   ],
   "source": [
    "similarity = pearsonr([1,0,3,1,3],[3,1,3,3,5])\n",
    "similarity"
   ]
  },
  {
   "cell_type": "code",
   "execution_count": null,
   "id": "1c86d29a",
   "metadata": {},
   "outputs": [],
   "source": []
  }
 ],
 "metadata": {
  "kernelspec": {
   "display_name": "Python 3 (ipykernel)",
   "language": "python",
   "name": "python3"
  },
  "language_info": {
   "codemirror_mode": {
    "name": "ipython",
    "version": 3
   },
   "file_extension": ".py",
   "mimetype": "text/x-python",
   "name": "python",
   "nbconvert_exporter": "python",
   "pygments_lexer": "ipython3",
   "version": "3.8.0"
  }
 },
 "nbformat": 4,
 "nbformat_minor": 5
}
