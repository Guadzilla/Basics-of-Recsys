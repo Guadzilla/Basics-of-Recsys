{
 "cells": [
  {
   "cell_type": "code",
   "execution_count": 1,
   "id": "3c220016",
   "metadata": {},
   "outputs": [],
   "source": [
    "import pandas as pd\n",
    "import numpy as np\n",
    "import warnings\n",
    "warnings.filterwarnings('ignore')\n",
    "from sklearn.metrics.pairwise import cosine_similarity\n",
    "from scipy.stats import pearsonr"
   ]
  },
  {
   "cell_type": "code",
   "execution_count": 2,
   "id": "7c04aeea",
   "metadata": {},
   "outputs": [
    {
     "data": {
      "text/html": [
       "<div>\n",
       "<style scoped>\n",
       "    .dataframe tbody tr th:only-of-type {\n",
       "        vertical-align: middle;\n",
       "    }\n",
       "\n",
       "    .dataframe tbody tr th {\n",
       "        vertical-align: top;\n",
       "    }\n",
       "\n",
       "    .dataframe thead th {\n",
       "        text-align: right;\n",
       "    }\n",
       "</style>\n",
       "<table border=\"1\" class=\"dataframe\">\n",
       "  <thead>\n",
       "    <tr style=\"text-align: right;\">\n",
       "      <th></th>\n",
       "      <th>item1</th>\n",
       "      <th>item2</th>\n",
       "      <th>item3</th>\n",
       "      <th>item4</th>\n",
       "      <th>item5</th>\n",
       "    </tr>\n",
       "  </thead>\n",
       "  <tbody>\n",
       "    <tr>\n",
       "      <th>Alice</th>\n",
       "      <td>5.0</td>\n",
       "      <td>3.0</td>\n",
       "      <td>4.0</td>\n",
       "      <td>4.0</td>\n",
       "      <td>NaN</td>\n",
       "    </tr>\n",
       "    <tr>\n",
       "      <th>user1</th>\n",
       "      <td>3.0</td>\n",
       "      <td>1.0</td>\n",
       "      <td>2.0</td>\n",
       "      <td>3.0</td>\n",
       "      <td>3.0</td>\n",
       "    </tr>\n",
       "    <tr>\n",
       "      <th>user2</th>\n",
       "      <td>4.0</td>\n",
       "      <td>3.0</td>\n",
       "      <td>4.0</td>\n",
       "      <td>3.0</td>\n",
       "      <td>5.0</td>\n",
       "    </tr>\n",
       "    <tr>\n",
       "      <th>user3</th>\n",
       "      <td>3.0</td>\n",
       "      <td>3.0</td>\n",
       "      <td>1.0</td>\n",
       "      <td>5.0</td>\n",
       "      <td>4.0</td>\n",
       "    </tr>\n",
       "    <tr>\n",
       "      <th>user4</th>\n",
       "      <td>1.0</td>\n",
       "      <td>5.0</td>\n",
       "      <td>5.0</td>\n",
       "      <td>2.0</td>\n",
       "      <td>1.0</td>\n",
       "    </tr>\n",
       "  </tbody>\n",
       "</table>\n",
       "</div>"
      ],
      "text/plain": [
       "       item1  item2  item3  item4  item5\n",
       "Alice    5.0    3.0    4.0    4.0    NaN\n",
       "user1    3.0    1.0    2.0    3.0    3.0\n",
       "user2    4.0    3.0    4.0    3.0    5.0\n",
       "user3    3.0    3.0    1.0    5.0    4.0\n",
       "user4    1.0    5.0    5.0    2.0    1.0"
      ]
     },
     "execution_count": 2,
     "metadata": {},
     "output_type": "execute_result"
    }
   ],
   "source": [
    "# 定义数据集， 也就是那个表格， 注意这里我们采用字典存放数据， 因为实际情况中数据是非常稀疏的， 很少有情况是现在这样\n",
    "def loadData():\n",
    "    ratings={'Alice': {'item1': 5, 'item2': 3, 'item3': 4, 'item4': 4},\n",
    "           'user1': {'item1': 3, 'item2': 1, 'item3': 2, 'item4': 3, 'item5': 3},\n",
    "           'user2': {'item1': 4, 'item2': 3, 'item3': 4, 'item4': 3, 'item5': 5},\n",
    "           'user3': {'item1': 3, 'item2': 3, 'item3': 1, 'item4': 5, 'item5': 4},\n",
    "           'user4': {'item1': 1, 'item2': 5, 'item3': 5, 'item4': 2, 'item5': 1}\n",
    "          }\n",
    "    return ratings\n",
    "ratings = loadData()\n",
    "ratings = pd.DataFrame(ratings).T\n",
    "ratings"
   ]
  },
  {
   "cell_type": "markdown",
   "id": "8987f434",
   "metadata": {},
   "source": [
    "### 计算Alice与其他用户的相似度（这里使用皮尔逊相关系数）"
   ]
  },
  {
   "cell_type": "code",
   "execution_count": 28,
   "id": "cebac574",
   "metadata": {},
   "outputs": [],
   "source": [
    "Alice = ratings.loc['Alice',:'item4']\n",
    "user1 = ratings.loc['user1',:'item4']\n",
    "user2 = ratings.loc['user2',:'item4']\n",
    "user3 = ratings.loc['user3',:'item4']\n",
    "user4 = ratings.loc['user4',:'item4']"
   ]
  },
  {
   "cell_type": "code",
   "execution_count": 4,
   "id": "1db6b4a2",
   "metadata": {},
   "outputs": [],
   "source": [
    "def pearsonrSim(x,y):\n",
    "    \"\"\"\n",
    "    皮尔森相似度\n",
    "    \"\"\"\n",
    "    return pearsonr(x,y)[0]"
   ]
  },
  {
   "cell_type": "code",
   "execution_count": 30,
   "id": "e965e8e2",
   "metadata": {
    "scrolled": true
   },
   "outputs": [
    {
     "data": {
      "text/plain": [
       "array([[1.       , 0.9753213],\n",
       "       [0.9753213, 1.       ]])"
      ]
     },
     "execution_count": 30,
     "metadata": {},
     "output_type": "execute_result"
    }
   ],
   "source": [
    "cosine_similarity([Alice,user1])"
   ]
  },
  {
   "cell_type": "code",
   "execution_count": 5,
   "id": "5f80400e",
   "metadata": {},
   "outputs": [
    {
     "data": {
      "text/plain": [
       "(0.8528028654224415, 0.7071067811865475, 0.0, -0.7921180343813393)"
      ]
     },
     "execution_count": 5,
     "metadata": {},
     "output_type": "execute_result"
    }
   ],
   "source": [
    "Alice_user1_similarity = pearsonrSim(Alice,user1)\n",
    "Alice_user2_similarity = pearsonrSim(Alice,user2)\n",
    "Alice_user3_similarity = pearsonrSim(Alice,user3)\n",
    "Alice_user4_similarity = pearsonrSim(Alice,user4)\n",
    "Alice_user1_similarity,Alice_user2_similarity,Alice_user3_similarity,Alice_user4_similarity"
   ]
  },
  {
   "cell_type": "code",
   "execution_count": 6,
   "id": "94f4cddb",
   "metadata": {},
   "outputs": [],
   "source": [
    "ratings.loc['Alice','item5']=4.87"
   ]
  },
  {
   "cell_type": "code",
   "execution_count": 7,
   "id": "40661971",
   "metadata": {},
   "outputs": [
    {
     "data": {
      "text/html": [
       "<div>\n",
       "<style scoped>\n",
       "    .dataframe tbody tr th:only-of-type {\n",
       "        vertical-align: middle;\n",
       "    }\n",
       "\n",
       "    .dataframe tbody tr th {\n",
       "        vertical-align: top;\n",
       "    }\n",
       "\n",
       "    .dataframe thead th {\n",
       "        text-align: right;\n",
       "    }\n",
       "</style>\n",
       "<table border=\"1\" class=\"dataframe\">\n",
       "  <thead>\n",
       "    <tr style=\"text-align: right;\">\n",
       "      <th></th>\n",
       "      <th>item1</th>\n",
       "      <th>item2</th>\n",
       "      <th>item3</th>\n",
       "      <th>item4</th>\n",
       "      <th>item5</th>\n",
       "    </tr>\n",
       "  </thead>\n",
       "  <tbody>\n",
       "    <tr>\n",
       "      <th>Alice</th>\n",
       "      <td>5.0</td>\n",
       "      <td>3.0</td>\n",
       "      <td>4.0</td>\n",
       "      <td>4.0</td>\n",
       "      <td>4.87</td>\n",
       "    </tr>\n",
       "    <tr>\n",
       "      <th>user1</th>\n",
       "      <td>3.0</td>\n",
       "      <td>1.0</td>\n",
       "      <td>2.0</td>\n",
       "      <td>3.0</td>\n",
       "      <td>3.00</td>\n",
       "    </tr>\n",
       "    <tr>\n",
       "      <th>user2</th>\n",
       "      <td>4.0</td>\n",
       "      <td>3.0</td>\n",
       "      <td>4.0</td>\n",
       "      <td>3.0</td>\n",
       "      <td>5.00</td>\n",
       "    </tr>\n",
       "    <tr>\n",
       "      <th>user3</th>\n",
       "      <td>3.0</td>\n",
       "      <td>3.0</td>\n",
       "      <td>1.0</td>\n",
       "      <td>5.0</td>\n",
       "      <td>4.00</td>\n",
       "    </tr>\n",
       "    <tr>\n",
       "      <th>user4</th>\n",
       "      <td>1.0</td>\n",
       "      <td>5.0</td>\n",
       "      <td>5.0</td>\n",
       "      <td>2.0</td>\n",
       "      <td>1.00</td>\n",
       "    </tr>\n",
       "  </tbody>\n",
       "</table>\n",
       "</div>"
      ],
      "text/plain": [
       "       item1  item2  item3  item4  item5\n",
       "Alice    5.0    3.0    4.0    4.0   4.87\n",
       "user1    3.0    1.0    2.0    3.0   3.00\n",
       "user2    4.0    3.0    4.0    3.0   5.00\n",
       "user3    3.0    3.0    1.0    5.0   4.00\n",
       "user4    1.0    5.0    5.0    2.0   1.00"
      ]
     },
     "execution_count": 7,
     "metadata": {},
     "output_type": "execute_result"
    }
   ],
   "source": [
    "ratings"
   ]
  },
  {
   "cell_type": "markdown",
   "id": "90deaf7c",
   "metadata": {},
   "source": [
    "# UserCF 代码实现"
   ]
  },
  {
   "cell_type": "code",
   "execution_count": 8,
   "id": "c1349e04",
   "metadata": {},
   "outputs": [],
   "source": [
    "# 定义数据集， 也就是那个表格， 注意这里我们采用字典存放数据， 因为实际情况中数据是非常稀疏的， 很少有情况是现在这样\n",
    "def loadData():\n",
    "    items={'A': {1: 5, 2: 3, 3: 4, 4: 3, 5: 1},\n",
    "           'B': {1: 3, 2: 1, 3: 3, 4: 3, 5: 5},\n",
    "           'C': {1: 4, 2: 2, 3: 4, 4: 1, 5: 5},\n",
    "           'D': {1: 4, 2: 3, 3: 3, 4: 5, 5: 2},\n",
    "           'E': {2: 3, 3: 5, 4: 4, 5: 1}\n",
    "          }\n",
    "    users={1: {'A': 5, 'B': 3, 'C': 4, 'D': 4},\n",
    "           2: {'A': 3, 'B': 1, 'C': 2, 'D': 3, 'E': 3},\n",
    "           3: {'A': 4, 'B': 3, 'C': 4, 'D': 3, 'E': 5},\n",
    "           4: {'A': 3, 'B': 3, 'C': 1, 'D': 5, 'E': 4},\n",
    "           5: {'A': 1, 'B': 5, 'C': 5, 'D': 2, 'E': 1}\n",
    "          }\n",
    "    return items,users\n",
    "\n",
    "items, users = loadData()\n",
    "item_df = pd.DataFrame(items).T\n",
    "user_df = pd.DataFrame(users).T\n"
   ]
  },
  {
   "cell_type": "code",
   "execution_count": 9,
   "id": "3559d6f0",
   "metadata": {},
   "outputs": [
    {
     "data": {
      "text/html": [
       "<div>\n",
       "<style scoped>\n",
       "    .dataframe tbody tr th:only-of-type {\n",
       "        vertical-align: middle;\n",
       "    }\n",
       "\n",
       "    .dataframe tbody tr th {\n",
       "        vertical-align: top;\n",
       "    }\n",
       "\n",
       "    .dataframe thead th {\n",
       "        text-align: right;\n",
       "    }\n",
       "</style>\n",
       "<table border=\"1\" class=\"dataframe\">\n",
       "  <thead>\n",
       "    <tr style=\"text-align: right;\">\n",
       "      <th></th>\n",
       "      <th>1</th>\n",
       "      <th>2</th>\n",
       "      <th>3</th>\n",
       "      <th>4</th>\n",
       "      <th>5</th>\n",
       "    </tr>\n",
       "  </thead>\n",
       "  <tbody>\n",
       "    <tr>\n",
       "      <th>A</th>\n",
       "      <td>5.0</td>\n",
       "      <td>3.0</td>\n",
       "      <td>4.0</td>\n",
       "      <td>3.0</td>\n",
       "      <td>1.0</td>\n",
       "    </tr>\n",
       "    <tr>\n",
       "      <th>B</th>\n",
       "      <td>3.0</td>\n",
       "      <td>1.0</td>\n",
       "      <td>3.0</td>\n",
       "      <td>3.0</td>\n",
       "      <td>5.0</td>\n",
       "    </tr>\n",
       "    <tr>\n",
       "      <th>C</th>\n",
       "      <td>4.0</td>\n",
       "      <td>2.0</td>\n",
       "      <td>4.0</td>\n",
       "      <td>1.0</td>\n",
       "      <td>5.0</td>\n",
       "    </tr>\n",
       "    <tr>\n",
       "      <th>D</th>\n",
       "      <td>4.0</td>\n",
       "      <td>3.0</td>\n",
       "      <td>3.0</td>\n",
       "      <td>5.0</td>\n",
       "      <td>2.0</td>\n",
       "    </tr>\n",
       "    <tr>\n",
       "      <th>E</th>\n",
       "      <td>NaN</td>\n",
       "      <td>3.0</td>\n",
       "      <td>5.0</td>\n",
       "      <td>4.0</td>\n",
       "      <td>1.0</td>\n",
       "    </tr>\n",
       "  </tbody>\n",
       "</table>\n",
       "</div>"
      ],
      "text/plain": [
       "     1    2    3    4    5\n",
       "A  5.0  3.0  4.0  3.0  1.0\n",
       "B  3.0  1.0  3.0  3.0  5.0\n",
       "C  4.0  2.0  4.0  1.0  5.0\n",
       "D  4.0  3.0  3.0  5.0  2.0\n",
       "E  NaN  3.0  5.0  4.0  1.0"
      ]
     },
     "execution_count": 9,
     "metadata": {},
     "output_type": "execute_result"
    }
   ],
   "source": [
    "item_df"
   ]
  },
  {
   "cell_type": "code",
   "execution_count": 10,
   "id": "6e8f7c6a",
   "metadata": {},
   "outputs": [
    {
     "data": {
      "text/html": [
       "<div>\n",
       "<style scoped>\n",
       "    .dataframe tbody tr th:only-of-type {\n",
       "        vertical-align: middle;\n",
       "    }\n",
       "\n",
       "    .dataframe tbody tr th {\n",
       "        vertical-align: top;\n",
       "    }\n",
       "\n",
       "    .dataframe thead th {\n",
       "        text-align: right;\n",
       "    }\n",
       "</style>\n",
       "<table border=\"1\" class=\"dataframe\">\n",
       "  <thead>\n",
       "    <tr style=\"text-align: right;\">\n",
       "      <th></th>\n",
       "      <th>A</th>\n",
       "      <th>B</th>\n",
       "      <th>C</th>\n",
       "      <th>D</th>\n",
       "      <th>E</th>\n",
       "    </tr>\n",
       "  </thead>\n",
       "  <tbody>\n",
       "    <tr>\n",
       "      <th>1</th>\n",
       "      <td>5.0</td>\n",
       "      <td>3.0</td>\n",
       "      <td>4.0</td>\n",
       "      <td>4.0</td>\n",
       "      <td>NaN</td>\n",
       "    </tr>\n",
       "    <tr>\n",
       "      <th>2</th>\n",
       "      <td>3.0</td>\n",
       "      <td>1.0</td>\n",
       "      <td>2.0</td>\n",
       "      <td>3.0</td>\n",
       "      <td>3.0</td>\n",
       "    </tr>\n",
       "    <tr>\n",
       "      <th>3</th>\n",
       "      <td>4.0</td>\n",
       "      <td>3.0</td>\n",
       "      <td>4.0</td>\n",
       "      <td>3.0</td>\n",
       "      <td>5.0</td>\n",
       "    </tr>\n",
       "    <tr>\n",
       "      <th>4</th>\n",
       "      <td>3.0</td>\n",
       "      <td>3.0</td>\n",
       "      <td>1.0</td>\n",
       "      <td>5.0</td>\n",
       "      <td>4.0</td>\n",
       "    </tr>\n",
       "    <tr>\n",
       "      <th>5</th>\n",
       "      <td>1.0</td>\n",
       "      <td>5.0</td>\n",
       "      <td>5.0</td>\n",
       "      <td>2.0</td>\n",
       "      <td>1.0</td>\n",
       "    </tr>\n",
       "  </tbody>\n",
       "</table>\n",
       "</div>"
      ],
      "text/plain": [
       "     A    B    C    D    E\n",
       "1  5.0  3.0  4.0  4.0  NaN\n",
       "2  3.0  1.0  2.0  3.0  3.0\n",
       "3  4.0  3.0  4.0  3.0  5.0\n",
       "4  3.0  3.0  1.0  5.0  4.0\n",
       "5  1.0  5.0  5.0  2.0  1.0"
      ]
     },
     "execution_count": 10,
     "metadata": {},
     "output_type": "execute_result"
    }
   ],
   "source": [
    "user_df"
   ]
  },
  {
   "cell_type": "code",
   "execution_count": 11,
   "id": "3b4ff3d4",
   "metadata": {},
   "outputs": [],
   "source": [
    "\"\"\"计算用户相似性矩阵\"\"\"\n",
    "similarity_matrix = pd.DataFrame(-1 * np.ones((len(users), len(users))), index=[1, 2, 3, 4, 5], columns=[1, 2, 3, 4, 5])\n",
    "\n",
    "for userx in users:\n",
    "    for usery in users:\n",
    "        userxVec=[]\n",
    "        useryVec=[]\n",
    "        if userx == usery:\n",
    "            continue\n",
    "        else:\n",
    "            userx_history = users[userx].keys()\n",
    "            usery_history = users[usery].keys()\n",
    "            intersection = set(userx_history).intersection(usery_history) # 用户x和用户y行为历史的交集，否则有nan无法计算相似性\n",
    "            for i in intersection:\n",
    "                userxVec.append(users[userx][i])\n",
    "                useryVec.append(users[usery][i])\n",
    "            similarity_matrix[userx][usery]=np.corrcoef(np.array(userxVec),np.array(useryVec))[0][1]"
   ]
  },
  {
   "cell_type": "code",
   "execution_count": 12,
   "id": "b9e7119b",
   "metadata": {
    "scrolled": true
   },
   "outputs": [
    {
     "data": {
      "text/html": [
       "<div>\n",
       "<style scoped>\n",
       "    .dataframe tbody tr th:only-of-type {\n",
       "        vertical-align: middle;\n",
       "    }\n",
       "\n",
       "    .dataframe tbody tr th {\n",
       "        vertical-align: top;\n",
       "    }\n",
       "\n",
       "    .dataframe thead th {\n",
       "        text-align: right;\n",
       "    }\n",
       "</style>\n",
       "<table border=\"1\" class=\"dataframe\">\n",
       "  <thead>\n",
       "    <tr style=\"text-align: right;\">\n",
       "      <th></th>\n",
       "      <th>1</th>\n",
       "      <th>2</th>\n",
       "      <th>3</th>\n",
       "      <th>4</th>\n",
       "      <th>5</th>\n",
       "    </tr>\n",
       "  </thead>\n",
       "  <tbody>\n",
       "    <tr>\n",
       "      <th>1</th>\n",
       "      <td>-1.000000</td>\n",
       "      <td>0.852803</td>\n",
       "      <td>0.707107</td>\n",
       "      <td>0.000000</td>\n",
       "      <td>-0.792118</td>\n",
       "    </tr>\n",
       "    <tr>\n",
       "      <th>2</th>\n",
       "      <td>0.852803</td>\n",
       "      <td>-1.000000</td>\n",
       "      <td>0.467707</td>\n",
       "      <td>0.489956</td>\n",
       "      <td>-0.900149</td>\n",
       "    </tr>\n",
       "    <tr>\n",
       "      <th>3</th>\n",
       "      <td>0.707107</td>\n",
       "      <td>0.467707</td>\n",
       "      <td>-1.000000</td>\n",
       "      <td>-0.161165</td>\n",
       "      <td>-0.466569</td>\n",
       "    </tr>\n",
       "    <tr>\n",
       "      <th>4</th>\n",
       "      <td>0.000000</td>\n",
       "      <td>0.489956</td>\n",
       "      <td>-0.161165</td>\n",
       "      <td>-1.000000</td>\n",
       "      <td>-0.641503</td>\n",
       "    </tr>\n",
       "    <tr>\n",
       "      <th>5</th>\n",
       "      <td>-0.792118</td>\n",
       "      <td>-0.900149</td>\n",
       "      <td>-0.466569</td>\n",
       "      <td>-0.641503</td>\n",
       "      <td>-1.000000</td>\n",
       "    </tr>\n",
       "  </tbody>\n",
       "</table>\n",
       "</div>"
      ],
      "text/plain": [
       "          1         2         3         4         5\n",
       "1 -1.000000  0.852803  0.707107  0.000000 -0.792118\n",
       "2  0.852803 -1.000000  0.467707  0.489956 -0.900149\n",
       "3  0.707107  0.467707 -1.000000 -0.161165 -0.466569\n",
       "4  0.000000  0.489956 -0.161165 -1.000000 -0.641503\n",
       "5 -0.792118 -0.900149 -0.466569 -0.641503 -1.000000"
      ]
     },
     "execution_count": 12,
     "metadata": {},
     "output_type": "execute_result"
    }
   ],
   "source": [
    "similarity_matrix"
   ]
  },
  {
   "cell_type": "code",
   "execution_count": 13,
   "id": "8e97ea65",
   "metadata": {},
   "outputs": [],
   "source": [
    "\"\"\"计算前n个相似的用户\"\"\"\n",
    "n = 2\n",
    "similar_users = dict()\n",
    "for user in users:\n",
    "    similar_users[user] = similarity_matrix[user].sort_values(ascending=False)[:n].index.tolist()"
   ]
  },
  {
   "cell_type": "code",
   "execution_count": 14,
   "id": "2fc9826c",
   "metadata": {},
   "outputs": [
    {
     "data": {
      "text/plain": [
       "{1: [2, 3], 2: [1, 4], 3: [1, 2], 4: [2, 1], 5: [3, 4]}"
      ]
     },
     "execution_count": 14,
     "metadata": {},
     "output_type": "execute_result"
    }
   ],
   "source": [
    "similar_users"
   ]
  },
  {
   "cell_type": "code",
   "execution_count": 15,
   "id": "eabe8ffa",
   "metadata": {},
   "outputs": [
    {
     "name": "stdout",
     "output_type": "stream",
     "text": [
      "用户1对物品E的预测评分为 4.87 \n"
     ]
    }
   ],
   "source": [
    "\"\"\"计算最后得分,用户1对物品E的预测评分\"\"\"\n",
    "user_mean_rating = dict()\n",
    "for user in users:\n",
    "    user_mean = np.mean([value for value in users[user].values()])\n",
    "    user_mean_rating[user] = user_mean\n",
    "\n",
    "weighted_scores = 0.\n",
    "corr_values_sum = 0.\n",
    "for user in similar_users[1]:\n",
    "    weighted_scores += similarity_matrix[1][user]\n",
    "    corr_values_sum += similarity_matrix[1][user] * (users[user]['E'] - user_mean_rating[user])\n",
    "\n",
    "predict = user_mean_rating[1] + corr_values_sum/weighted_scores\n",
    "print(f'用户1对物品E的预测评分为 {predict:.2f} ')\n",
    "    "
   ]
  },
  {
   "cell_type": "code",
   "execution_count": 16,
   "id": "4c82167f",
   "metadata": {},
   "outputs": [
    {
     "data": {
      "text/html": [
       "<div>\n",
       "<style scoped>\n",
       "    .dataframe tbody tr th:only-of-type {\n",
       "        vertical-align: middle;\n",
       "    }\n",
       "\n",
       "    .dataframe tbody tr th {\n",
       "        vertical-align: top;\n",
       "    }\n",
       "\n",
       "    .dataframe thead th {\n",
       "        text-align: right;\n",
       "    }\n",
       "</style>\n",
       "<table border=\"1\" class=\"dataframe\">\n",
       "  <thead>\n",
       "    <tr style=\"text-align: right;\">\n",
       "      <th></th>\n",
       "      <th>A</th>\n",
       "      <th>B</th>\n",
       "      <th>C</th>\n",
       "      <th>D</th>\n",
       "      <th>E</th>\n",
       "    </tr>\n",
       "  </thead>\n",
       "  <tbody>\n",
       "    <tr>\n",
       "      <th>1</th>\n",
       "      <td>5.0</td>\n",
       "      <td>3.0</td>\n",
       "      <td>4.0</td>\n",
       "      <td>4.0</td>\n",
       "      <td>4.87</td>\n",
       "    </tr>\n",
       "    <tr>\n",
       "      <th>2</th>\n",
       "      <td>3.0</td>\n",
       "      <td>1.0</td>\n",
       "      <td>2.0</td>\n",
       "      <td>3.0</td>\n",
       "      <td>3.00</td>\n",
       "    </tr>\n",
       "    <tr>\n",
       "      <th>3</th>\n",
       "      <td>4.0</td>\n",
       "      <td>3.0</td>\n",
       "      <td>4.0</td>\n",
       "      <td>3.0</td>\n",
       "      <td>5.00</td>\n",
       "    </tr>\n",
       "    <tr>\n",
       "      <th>4</th>\n",
       "      <td>3.0</td>\n",
       "      <td>3.0</td>\n",
       "      <td>1.0</td>\n",
       "      <td>5.0</td>\n",
       "      <td>4.00</td>\n",
       "    </tr>\n",
       "    <tr>\n",
       "      <th>5</th>\n",
       "      <td>1.0</td>\n",
       "      <td>5.0</td>\n",
       "      <td>5.0</td>\n",
       "      <td>2.0</td>\n",
       "      <td>1.00</td>\n",
       "    </tr>\n",
       "  </tbody>\n",
       "</table>\n",
       "</div>"
      ],
      "text/plain": [
       "     A    B    C    D     E\n",
       "1  5.0  3.0  4.0  4.0  4.87\n",
       "2  3.0  1.0  2.0  3.0  3.00\n",
       "3  4.0  3.0  4.0  3.0  5.00\n",
       "4  3.0  3.0  1.0  5.0  4.00\n",
       "5  1.0  5.0  5.0  2.0  1.00"
      ]
     },
     "execution_count": 16,
     "metadata": {},
     "output_type": "execute_result"
    }
   ],
   "source": [
    "user_df.loc[1]['E'] = predict.round(2)\n",
    "user_df"
   ]
  },
  {
   "cell_type": "markdown",
   "id": "b7273c37",
   "metadata": {},
   "source": [
    "### 计算物品5与其他物品的相似度（这里使用皮尔逊相关系数）"
   ]
  },
  {
   "cell_type": "code",
   "execution_count": 17,
   "id": "121fec73",
   "metadata": {},
   "outputs": [
    {
     "data": {
      "text/html": [
       "<div>\n",
       "<style scoped>\n",
       "    .dataframe tbody tr th:only-of-type {\n",
       "        vertical-align: middle;\n",
       "    }\n",
       "\n",
       "    .dataframe tbody tr th {\n",
       "        vertical-align: top;\n",
       "    }\n",
       "\n",
       "    .dataframe thead th {\n",
       "        text-align: right;\n",
       "    }\n",
       "</style>\n",
       "<table border=\"1\" class=\"dataframe\">\n",
       "  <thead>\n",
       "    <tr style=\"text-align: right;\">\n",
       "      <th></th>\n",
       "      <th>item1</th>\n",
       "      <th>item2</th>\n",
       "      <th>item3</th>\n",
       "      <th>item4</th>\n",
       "      <th>item5</th>\n",
       "    </tr>\n",
       "  </thead>\n",
       "  <tbody>\n",
       "    <tr>\n",
       "      <th>Alice</th>\n",
       "      <td>5.0</td>\n",
       "      <td>3.0</td>\n",
       "      <td>4.0</td>\n",
       "      <td>4.0</td>\n",
       "      <td>NaN</td>\n",
       "    </tr>\n",
       "    <tr>\n",
       "      <th>user1</th>\n",
       "      <td>3.0</td>\n",
       "      <td>1.0</td>\n",
       "      <td>2.0</td>\n",
       "      <td>3.0</td>\n",
       "      <td>3.0</td>\n",
       "    </tr>\n",
       "    <tr>\n",
       "      <th>user2</th>\n",
       "      <td>4.0</td>\n",
       "      <td>3.0</td>\n",
       "      <td>4.0</td>\n",
       "      <td>3.0</td>\n",
       "      <td>5.0</td>\n",
       "    </tr>\n",
       "    <tr>\n",
       "      <th>user3</th>\n",
       "      <td>3.0</td>\n",
       "      <td>3.0</td>\n",
       "      <td>1.0</td>\n",
       "      <td>5.0</td>\n",
       "      <td>4.0</td>\n",
       "    </tr>\n",
       "    <tr>\n",
       "      <th>user4</th>\n",
       "      <td>1.0</td>\n",
       "      <td>5.0</td>\n",
       "      <td>5.0</td>\n",
       "      <td>2.0</td>\n",
       "      <td>1.0</td>\n",
       "    </tr>\n",
       "  </tbody>\n",
       "</table>\n",
       "</div>"
      ],
      "text/plain": [
       "       item1  item2  item3  item4  item5\n",
       "Alice    5.0    3.0    4.0    4.0    NaN\n",
       "user1    3.0    1.0    2.0    3.0    3.0\n",
       "user2    4.0    3.0    4.0    3.0    5.0\n",
       "user3    3.0    3.0    1.0    5.0    4.0\n",
       "user4    1.0    5.0    5.0    2.0    1.0"
      ]
     },
     "execution_count": 17,
     "metadata": {},
     "output_type": "execute_result"
    }
   ],
   "source": [
    "# 定义数据集， 也就是那个表格， 注意这里我们采用字典存放数据， 因为实际情况中数据是非常稀疏的， 很少有情况是现在这样\n",
    "def loadData():\n",
    "    ratings={'Alice': {'item1': 5, 'item2': 3, 'item3': 4, 'item4': 4},\n",
    "           'user1': {'item1': 3, 'item2': 1, 'item3': 2, 'item4': 3, 'item5': 3},\n",
    "           'user2': {'item1': 4, 'item2': 3, 'item3': 4, 'item4': 3, 'item5': 5},\n",
    "           'user3': {'item1': 3, 'item2': 3, 'item3': 1, 'item4': 5, 'item5': 4},\n",
    "           'user4': {'item1': 1, 'item2': 5, 'item3': 5, 'item4': 2, 'item5': 1}\n",
    "          }\n",
    "    return ratings\n",
    "ratings = loadData()\n",
    "ratings = pd.DataFrame(ratings).T\n",
    "ratings"
   ]
  },
  {
   "cell_type": "code",
   "execution_count": 18,
   "id": "1bf3033b",
   "metadata": {},
   "outputs": [],
   "source": [
    "item5 = ratings.loc['user1':,'item5'].values.tolist()\n",
    "item4 = ratings.loc['user1':,'item4'].values.tolist()\n",
    "item3 = ratings.loc['user1':,'item3'].values.tolist()\n",
    "item2 = ratings.loc['user1':,'item2'].values.tolist()\n",
    "item1 = ratings.loc['user1':,'item1'].values.tolist()"
   ]
  },
  {
   "cell_type": "code",
   "execution_count": 19,
   "id": "ce55406f",
   "metadata": {},
   "outputs": [],
   "source": [
    "def pearsonrSim(x,y):\n",
    "    \"\"\"\n",
    "    皮尔森相似度\n",
    "    \"\"\"\n",
    "    return pearsonr(x,y)[0]"
   ]
  },
  {
   "cell_type": "code",
   "execution_count": 20,
   "id": "bd85d5a6",
   "metadata": {},
   "outputs": [
    {
     "data": {
      "text/plain": [
       "[0.97, -0.48, -0.43, 0.58]"
      ]
     },
     "execution_count": 20,
     "metadata": {},
     "output_type": "execute_result"
    }
   ],
   "source": [
    "item51_similarity = pearsonrSim(item5,item1)\n",
    "item52_similarity = pearsonrSim(item5,item2)\n",
    "item53_similarity = pearsonrSim(item5,item3)\n",
    "item54_similarity = pearsonrSim(item5,item4)\n",
    "[x.round(2) for x in (item51_similarity,item52_similarity,item53_similarity,item54_similarity)]"
   ]
  },
  {
   "cell_type": "markdown",
   "id": "b082e5e5",
   "metadata": {},
   "source": [
    "# ItemCF代码实现"
   ]
  },
  {
   "cell_type": "code",
   "execution_count": 21,
   "id": "626c08c5",
   "metadata": {},
   "outputs": [],
   "source": [
    "# 定义数据集， 也就是那个表格， 注意这里我们采用字典存放数据， 因为实际情况中数据是非常稀疏的， 很少有情况是现在这样\n",
    "def loadData():\n",
    "    items={'A': {1: 5, 2: 3, 3: 4, 4: 3, 5: 1},\n",
    "           'B': {1: 3, 2: 1, 3: 3, 4: 3, 5: 5},\n",
    "           'C': {1: 4, 2: 2, 3: 4, 4: 1, 5: 5},\n",
    "           'D': {1: 4, 2: 3, 3: 3, 4: 5, 5: 2},\n",
    "           'E': {2: 3, 3: 5, 4: 4, 5: 1}\n",
    "          }\n",
    "    users={1: {'A': 5, 'B': 3, 'C': 4, 'D': 4},\n",
    "           2: {'A': 3, 'B': 1, 'C': 2, 'D': 3, 'E': 3},\n",
    "           3: {'A': 4, 'B': 3, 'C': 4, 'D': 3, 'E': 5},\n",
    "           4: {'A': 3, 'B': 3, 'C': 1, 'D': 5, 'E': 4},\n",
    "           5: {'A': 1, 'B': 5, 'C': 5, 'D': 2, 'E': 1}\n",
    "          }\n",
    "    return items,users\n",
    "\n",
    "items, users = loadData()\n",
    "item_df = pd.DataFrame(items).T\n",
    "user_df = pd.DataFrame(users).T\n"
   ]
  },
  {
   "cell_type": "code",
   "execution_count": 22,
   "id": "d92e8a25",
   "metadata": {},
   "outputs": [],
   "source": [
    "\"\"\"计算物品的相似矩阵\"\"\"\n",
    "similarity_matrix = pd.DataFrame(-1 * np.ones((len(items), len(items))), index=['A', 'B', 'C', 'D', 'E'], columns=['A', 'B', 'C', 'D', 'E'])\n",
    "\n",
    "# 遍历每条物品-用户评分数据\n",
    "for itemx in items:\n",
    "    for itemy in items:\n",
    "        itemxVec = []\n",
    "        itemyVec = []\n",
    "        if itemx == itemy:\n",
    "            continue\n",
    "        else:\n",
    "            itemx_history = set(items[itemx].keys())\n",
    "            itemy_history = set(items[itemy].keys())\n",
    "            intersection = itemx_history.intersection(itemy_history)  # 求交集，同时对两个物品都打分的用户，才有意义\n",
    "            for i in intersection:\n",
    "                itemxVec.append(items[itemx][i])\n",
    "                itemyVec.append(items[itemy][i])\n",
    "            similarity_matrix[itemx][itemy] = pearsonrSim(itemxVec,itemyVec).round(2)\n",
    "            # similarity_matrix[itemx][itemy] = np.corrcoef(np.array(itemxVec),np.array(itemyVec))[0][1] 两种计算方式等价"
   ]
  },
  {
   "cell_type": "code",
   "execution_count": 23,
   "id": "d68369f3",
   "metadata": {},
   "outputs": [
    {
     "data": {
      "text/html": [
       "<div>\n",
       "<style scoped>\n",
       "    .dataframe tbody tr th:only-of-type {\n",
       "        vertical-align: middle;\n",
       "    }\n",
       "\n",
       "    .dataframe tbody tr th {\n",
       "        vertical-align: top;\n",
       "    }\n",
       "\n",
       "    .dataframe thead th {\n",
       "        text-align: right;\n",
       "    }\n",
       "</style>\n",
       "<table border=\"1\" class=\"dataframe\">\n",
       "  <thead>\n",
       "    <tr style=\"text-align: right;\">\n",
       "      <th></th>\n",
       "      <th>A</th>\n",
       "      <th>B</th>\n",
       "      <th>C</th>\n",
       "      <th>D</th>\n",
       "      <th>E</th>\n",
       "    </tr>\n",
       "  </thead>\n",
       "  <tbody>\n",
       "    <tr>\n",
       "      <th>A</th>\n",
       "      <td>-1.00</td>\n",
       "      <td>-0.48</td>\n",
       "      <td>-0.12</td>\n",
       "      <td>0.53</td>\n",
       "      <td>0.97</td>\n",
       "    </tr>\n",
       "    <tr>\n",
       "      <th>B</th>\n",
       "      <td>-0.48</td>\n",
       "      <td>-1.00</td>\n",
       "      <td>0.65</td>\n",
       "      <td>-0.31</td>\n",
       "      <td>-0.48</td>\n",
       "    </tr>\n",
       "    <tr>\n",
       "      <th>C</th>\n",
       "      <td>-0.12</td>\n",
       "      <td>0.65</td>\n",
       "      <td>-1.00</td>\n",
       "      <td>-0.72</td>\n",
       "      <td>-0.43</td>\n",
       "    </tr>\n",
       "    <tr>\n",
       "      <th>D</th>\n",
       "      <td>0.53</td>\n",
       "      <td>-0.31</td>\n",
       "      <td>-0.72</td>\n",
       "      <td>-1.00</td>\n",
       "      <td>0.58</td>\n",
       "    </tr>\n",
       "    <tr>\n",
       "      <th>E</th>\n",
       "      <td>0.97</td>\n",
       "      <td>-0.48</td>\n",
       "      <td>-0.43</td>\n",
       "      <td>0.58</td>\n",
       "      <td>-1.00</td>\n",
       "    </tr>\n",
       "  </tbody>\n",
       "</table>\n",
       "</div>"
      ],
      "text/plain": [
       "      A     B     C     D     E\n",
       "A -1.00 -0.48 -0.12  0.53  0.97\n",
       "B -0.48 -1.00  0.65 -0.31 -0.48\n",
       "C -0.12  0.65 -1.00 -0.72 -0.43\n",
       "D  0.53 -0.31 -0.72 -1.00  0.58\n",
       "E  0.97 -0.48 -0.43  0.58 -1.00"
      ]
     },
     "execution_count": 23,
     "metadata": {},
     "output_type": "execute_result"
    }
   ],
   "source": [
    "similarity_matrix"
   ]
  },
  {
   "cell_type": "code",
   "execution_count": 24,
   "id": "4697a7eb",
   "metadata": {},
   "outputs": [],
   "source": [
    "\"\"\"计算前n个相似的物品\"\"\"\n",
    "n = 2\n",
    "similar_items = dict()\n",
    "for item in items:\n",
    "    similar_items[item] = similarity_matrix[item].sort_values(ascending=False)[:n].index.tolist()"
   ]
  },
  {
   "cell_type": "code",
   "execution_count": 25,
   "id": "5b7ade2c",
   "metadata": {},
   "outputs": [
    {
     "data": {
      "text/plain": [
       "['A', 'D']"
      ]
     },
     "execution_count": 25,
     "metadata": {},
     "output_type": "execute_result"
    }
   ],
   "source": [
    "similar_items['E']"
   ]
  },
  {
   "cell_type": "code",
   "execution_count": 26,
   "id": "adc37729",
   "metadata": {},
   "outputs": [
    {
     "name": "stdout",
     "output_type": "stream",
     "text": [
      "用户1对物品E的预测得分为 4.60\n"
     ]
    }
   ],
   "source": [
    "\"\"\"计算最后得分,用户1对物品E的预测评分\"\"\"\n",
    "\n",
    "# 计算物品平均打分情况\n",
    "item_ratings_mean = dict()\n",
    "for item,rating in items.items():\n",
    "    item_ratings_mean[item] = np.mean([value for value in rating.values()])\n",
    "\n",
    "weighted_scores = 0.\n",
    "corr_values_sum = 0.\n",
    "\n",
    "for item in similar_items['E']:\n",
    "    weighted_scores += similarity_matrix['E'][item]\n",
    "    corr_values_sum += similarity_matrix['E'][item] * (users[1][item] -  item_ratings_mean[item])\n",
    "\n",
    "predict = item_ratings_mean['E'] + corr_values_sum/weighted_scores\n",
    "print(f'用户1对物品E的预测得分为 {predict:.2f}')"
   ]
  },
  {
   "cell_type": "code",
   "execution_count": null,
   "id": "e8c50a02",
   "metadata": {},
   "outputs": [],
   "source": []
  }
 ],
 "metadata": {
  "kernelspec": {
   "display_name": "Python 3 (ipykernel)",
   "language": "python",
   "name": "python3"
  },
  "language_info": {
   "codemirror_mode": {
    "name": "ipython",
    "version": 3
   },
   "file_extension": ".py",
   "mimetype": "text/x-python",
   "name": "python",
   "nbconvert_exporter": "python",
   "pygments_lexer": "ipython3",
   "version": "3.8.0"
  }
 },
 "nbformat": 4,
 "nbformat_minor": 5
}
